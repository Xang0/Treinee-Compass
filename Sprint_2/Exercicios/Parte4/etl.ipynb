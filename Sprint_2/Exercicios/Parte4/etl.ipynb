{
 "cells": [
  {
   "cell_type": "code",
   "execution_count": null,
   "metadata": {},
   "outputs": [],
   "source": [
    "# Lendo os dados do arquivo csv\n",
    "# Transformo cada linha em um dicionario para faciliatr o acesso aos dados\n",
    "dados = open('actors.csv', 'r')\n",
    "cabecalho = dados.readline().split(',')\n",
    "dados = dados.readlines()\n",
    "atores = []\n",
    "for ator in dados:\n",
    "    ator = ator.split(',')\n",
    "    # Tratamento do dado sobre o ator Robert Downey Junior devido em seu nome haver uma vírgula\n",
    "    if ator[0] == '\"Robert Downey':\n",
    "        atores.append(\n",
    "            {\n",
    "                cabecalho[0]: ator[0].strip(),\n",
    "                cabecalho[1]: ator[1] + ator[2],\n",
    "                cabecalho[2]: ator[3].strip(),\n",
    "                cabecalho[3]: ator[4].strip(),\n",
    "                cabecalho[4]: ator[5].strip(),\n",
    "                cabecalho[5]: ator[6].strip()\n",
    "            }\n",
    "        )\n",
    "    else:\n",
    "        atores.append(\n",
    "            {\n",
    "                cabecalho[0]: ator[0].strip(),\n",
    "                cabecalho[1]: ator[1].strip(),\n",
    "                cabecalho[2]: ator[2].strip(),\n",
    "                cabecalho[3]: ator[3].strip(),\n",
    "                cabecalho[4]: ator[4].strip(),\n",
    "                cabecalho[5]: ator[5].strip()\n",
    "            }\n",
    "        )"
   ]
  },
  {
   "cell_type": "markdown",
   "metadata": {},
   "source": [
    "# Etapa 1\n",
    "\n",
    "Apresente  o ator/atriz com maior número de filmes e a respectiva quantidade. A quantidade de filmes encontra-se na coluna Number os Movies do arquivo."
   ]
  },
  {
   "cell_type": "code",
   "execution_count": 42,
   "metadata": {},
   "outputs": [],
   "source": [
    "qtd_filmes = max(float(ator['Number of Movies']) for ator in atores)\n",
    "nome_ator = filter(lambda x: int(x['Number of Movies']) == qtd_filmes, atores)\n",
    "\n",
    "arquivo = open('etapa_1.txt', 'w')\n",
    "arquivo.write(\"O ator que possui mais filmes no dataset é {} com {} filmes\".format(next(nome_ator)['Actor'], qtd_filmes))\n",
    "arquivo.close()"
   ]
  },
  {
   "cell_type": "markdown",
   "metadata": {},
   "source": [
    "# Etapa 2\n",
    "\n",
    "Apresente a média de receita de bilheteria bruta dos principais filmes, considerando todos os atores. Estamos falando aqui da média da coluna Gross."
   ]
  },
  {
   "cell_type": "code",
   "execution_count": 51,
   "metadata": {},
   "outputs": [],
   "source": [
    "media = 0\n",
    "media = sum(map(lambda x: float(x['Gross\\n']), atores)) / len(atores)\n",
    "\n",
    "arquivo = open('etapa_2.txt', 'w')\n",
    "arquivo.write(\"A media dos principais filmes é {}\".format(media))\n",
    "arquivo.close()"
   ]
  },
  {
   "cell_type": "markdown",
   "metadata": {},
   "source": [
    "# Etapa 3\n",
    "\n",
    "Apresente o ator/atriz com a maior média de receita de bilheteria bruta por filme do conjunto de dados. Considere a coluna Average per Movie para fins de cálculo."
   ]
  },
  {
   "cell_type": "code",
   "execution_count": 55,
   "metadata": {},
   "outputs": [],
   "source": [
    "media_lucro = max(float(ator['Average per Movie']) for ator in atores)\n",
    "nome_ator = filter(lambda x: float(x['Average per Movie']) == media_lucro, atores)\n",
    "\n",
    "arquivo = open('etapa_3.txt', 'w')\n",
    "arquivo.write(\"O ator que possui a maior média de receita de bilheteria bruta por filme\" + \\\n",
    "              \" é {} com {} de receita\".format(next(nome_ator)['Actor'], media_lucro))\n",
    "arquivo.close()"
   ]
  },
  {
   "cell_type": "markdown",
   "metadata": {},
   "source": [
    "# Etapa 4\n",
    "\n",
    "A coluna #1 Movie contém o filme de maior bilheteria em que o ator atuou. Realize a contagem de aparições destes filmes no dataset listando-os ordenados pela quantidade de vezes em que estiveram presentes. Considere a ordem decrescente e, em segundo nível, o nome do filme.\n",
    "\n",
    "Ao escrever no arquivo, considere o padrão de saída **(sequencia) - O filme (nome filme) aparece (quantidade) vez(es) no dataset.** adicionando um resultado a cada linha."
   ]
  },
  {
   "cell_type": "code",
   "execution_count": 81,
   "metadata": {},
   "outputs": [],
   "source": [
    "filmes = dict()\n",
    "\n",
    "for ator in atores:\n",
    "    if ator['#1 Movie'] not in filmes:\n",
    "        filmes.update({ator['#1 Movie']: 1})\n",
    "    else:\n",
    "        filmes[ator['#1 Movie']] += 1\n",
    "\n",
    "filmes_ordenados = []\n",
    "for k, v in filmes.items():\n",
    "    filmes_ordenados.append([v,k])\n",
    "    \n",
    "filmes_ordenados.sort(reverse=True)\n",
    "arquivo = open('etapa_4.txt', 'w')\n",
    "for i in range(len(filmes_ordenados)):\n",
    "    arquivo.write('{} - O filme {} aparece {} vez(es) no dataset\\n'.format(i+1, filmes_ordenados[i][1], filmes_ordenados[i][0]))\n",
    "arquivo.close()"
   ]
  },
  {
   "cell_type": "markdown",
   "metadata": {},
   "source": [
    "# Etapa 5\n",
    "\n",
    "Apresente a lista dos atores pela receita bruta de bilheteria de seus filmes (coluna Total Gross), em ordem decrescente. Ao escrever no arquivo, considere o padrão de saída **(nome ator) - (receita total bruta)**, adicionando um resultado a cada linha."
   ]
  },
  {
   "cell_type": "code",
   "execution_count": 88,
   "metadata": {},
   "outputs": [],
   "source": [
    "atores_receita = []\n",
    "\n",
    "for ator in atores:\n",
    "    atores_receita.append([ator['Total Gross'], ator['Actor']])\n",
    "atores_receita.sort(reverse=True)\n",
    "\n",
    "arquivo = open('etapa_5.txt', 'w')\n",
    "for ator in atores_receita:\n",
    "    arquivo.write(\"{} - {}\\n\".format(ator[1], ator[0]))\n",
    "arquivo.close()"
   ]
  }
 ],
 "metadata": {
  "kernelspec": {
   "display_name": "Python 3",
   "language": "python",
   "name": "python3"
  },
  "language_info": {
   "codemirror_mode": {
    "name": "ipython",
    "version": 3
   },
   "file_extension": ".py",
   "mimetype": "text/x-python",
   "name": "python",
   "nbconvert_exporter": "python",
   "pygments_lexer": "ipython3",
   "version": "3.13.2"
  }
 },
 "nbformat": 4,
 "nbformat_minor": 2
}
