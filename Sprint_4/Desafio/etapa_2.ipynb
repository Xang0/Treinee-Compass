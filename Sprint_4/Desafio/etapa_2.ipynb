{
 "cells": [
  {
   "cell_type": "markdown",
   "id": "a107bbbe",
   "metadata": {},
   "source": [
    "# Etapa 2\n",
    "\n",
    "A partir do arquivo que está dentro do S3, crie um dataframe com pandas ou polars e execute as análises escolhidas."
   ]
  },
  {
   "cell_type": "code",
   "execution_count": null,
   "id": "e2297294",
   "metadata": {},
   "outputs": [],
   "source": [
    "# Importação das bibliotecas necessárias\n",
    "import boto3\n",
    "import pandas as pd"
   ]
  },
  {
   "cell_type": "code",
   "execution_count": null,
   "id": "813aa6e9",
   "metadata": {},
   "outputs": [],
   "source": []
  },
  {
   "cell_type": "code",
   "execution_count": null,
   "id": "2fd15fad",
   "metadata": {},
   "outputs": [],
   "source": [
    "# Importando o arquivo\n",
    "arquivo = pd.read_csv('arp-2022-2023.csv')\n",
    "arquivo.drop_duplicates()"
   ]
  },
  {
   "cell_type": "code",
   "execution_count": null,
   "id": "36ea7cf6",
   "metadata": {},
   "outputs": [],
   "source": [
    "# Tratamento dos dados\n",
    "\n",
    "# Tratando valores numéricos\n",
    "arquivo['valor'] = arquivo['valor'].apply(lambda x: x.replace('R$ ', ''))\n",
    "arquivo['valor'] = arquivo['valor'].apply(lambda x: x.replace('.', ''))\n",
    "arquivo['valor'] = arquivo['valor'].astype(float)\n",
    "\n",
    "# Tratando as datas\n",
    "arquivo['fim_vigencia'] = arquivo['fim_vigencia'].apply(lambda x: x if x != 'não informado' else '')\n",
    "arquivo['fim_vigencia'] = pd.to_datetime(arquivo['fim_vigencia'], format=\"mixed\")\n",
    "arquivo['fim_vigencia'] = arquivo['fim_vigencia'] + pd.DateOffset(years=1)\n",
    "\n",
    "arquivo['inicio_vigencia'] = arquivo['inicio_vigencia'].apply(lambda x: x if x != 'NÃO CONSTA DATA' else None)\n",
    "arquivo['inicio_vigencia'] = pd.to_datetime(arquivo['inicio_vigencia'], format=\"mixed\")\n",
    "\n",
    "# Removendo colunas desnecessárias\n",
    "arquivo = arquivo[['pregão', 'ano', 'número', 'cpf_cnpj', 'fornecedor', 'objeto', 'valor', 'assinatura', 'inicio_vigencia', 'fim_vigencia']]"
   ]
  },
  {
   "cell_type": "markdown",
   "id": "d23355ec",
   "metadata": {},
   "source": [
    "## Análise/Questionamento 1\n",
    "\n",
    "Contratos de Medicamentos Humanos com Valor Superior a R$ 20.000 em 2023"
   ]
  },
  {
   "cell_type": "code",
   "execution_count": null,
   "id": "31da0d33",
   "metadata": {},
   "outputs": [],
   "source": [
    "# Filtragem dos dados\n",
    "dados_filtrados = arquivo.loc[\n",
    "    (arquivo['objeto'] == 'MEDICAMENTO HUMANO') \\\n",
    "    & (arquivo['ano'] == 2023) \\\n",
    "    & (arquivo['valor'] >= 20000)\n",
    "]\n",
    "\n",
    "# Exportação dos dados\n",
    "dados_filtrados.to_csv('analise_1.csv', index=False)"
   ]
  },
  {
   "cell_type": "markdown",
   "id": "eb137be1",
   "metadata": {},
   "source": [
    "## Análise/Questionamento 2\n",
    "\n",
    "Valor Total de Contratos por Tipo de Objeto e Duração Média da Vigência"
   ]
  },
  {
   "cell_type": "code",
   "execution_count": null,
   "id": "8ed0f350",
   "metadata": {},
   "outputs": [],
   "source": [
    "# Calcular duração da vigência em dias\n",
    "arquivo['duracao_vigencia'] = (arquivo['fim_vigencia'] - arquivo['inicio_vigencia']).dt.days\n",
    "\n",
    "# Agregar valor total por objeto e duração média\n",
    "analise = arquivo.groupby('objeto').agg(\n",
    "    valor_total=('valor', 'sum'),\n",
    "    duracao_media=('duracao_vigencia', 'mean')\n",
    ").reset_index()\n",
    "\n",
    "# Exportação dos dados\n",
    "analise.to_csv('analise_2.csv', index=False)"
   ]
  },
  {
   "cell_type": "markdown",
   "id": "32299a1f",
   "metadata": {},
   "source": [
    "## Análise/Questionamento 3\n",
    "\n",
    "Classificar Fornecedores \"LTDA\" com Base no Valor do Contrato"
   ]
  },
  {
   "cell_type": "code",
   "execution_count": null,
   "id": "286fe68d",
   "metadata": {},
   "outputs": [],
   "source": [
    "# Classificar valores em categorias\n",
    "condicoes = [\n",
    "    arquivo['valor'] > 100000,\n",
    "    (arquivo['valor'] >= 50000) & (arquivo['valor'] <= 100000),\n",
    "    arquivo['valor'] < 50000\n",
    "]\n",
    "categorias = ['Alto', 'Médio', 'Baixo']\n",
    "\n",
    "arquivo['categoria_valor'] = pd.cut(arquivo['valor'], bins=[0, 50000, 100000, float('inf')], labels=categorias)\n",
    "\n",
    "# Filtrando apenas os fornecedores LTDA\n",
    "empresas_ltda = arquivo.loc[arquivo['fornecedor'].str.contains('LTDA')]\n",
    "empresas_ltda = empresas_ltda[['fornecedor', 'valor', 'categoria_valor']]\n",
    "\n",
    "# Exportação dos dados\n",
    "empresas_ltda.to_csv('analise_3.csv', index=False)"
   ]
  }
 ],
 "metadata": {
  "kernelspec": {
   "display_name": ".venv",
   "language": "python",
   "name": "python3"
  },
  "language_info": {
   "codemirror_mode": {
    "name": "ipython",
    "version": 3
   },
   "file_extension": ".py",
   "mimetype": "text/x-python",
   "name": "python",
   "nbconvert_exporter": "python",
   "pygments_lexer": "ipython3",
   "version": "3.14.0"
  }
 },
 "nbformat": 4,
 "nbformat_minor": 5
}
