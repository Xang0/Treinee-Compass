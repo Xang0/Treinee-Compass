{
 "cells": [
  {
   "cell_type": "markdown",
   "id": "c5c586c4",
   "metadata": {},
   "source": [
    "# Etapa 1\n",
    "\n",
    "Defina 3 questionamentos ou análises que pretende trazer com os dados escolhidos e, a partit de script Python, carregue o arquivo para um bucket novo utilizando a biblioteca **boto3**"
   ]
  },
  {
   "cell_type": "code",
   "execution_count": 1,
   "id": "e4281b76",
   "metadata": {},
   "outputs": [],
   "source": [
    "# Importação das bibliotecas necessárias para criação do bucket e upload do arquivo\n",
    "import logging\n",
    "import boto3\n",
    "from botocore.exceptions import NoCredentialsError, ClientError"
   ]
  },
  {
   "cell_type": "code",
   "execution_count": 2,
   "id": "2d058c42",
   "metadata": {},
   "outputs": [],
   "source": [
    "# Função para upload\n",
    "def upload_to_s3(local_file, bucket_name, s3_key):\n",
    "    try:\n",
    "        # Cria um cliente S3\n",
    "        s3 = boto3.client('s3')\n",
    "        \n",
    "        # Faz upload do arquivo\n",
    "        s3.upload_file(\n",
    "            Filename=local_file,\n",
    "            Bucket=bucket_name,\n",
    "            Key=s3_key,\n",
    "            ExtraArgs={'ACL': 'public-read'}  # Defino objeto ACL para leitura pública do arquivo\n",
    "        )\n",
    "        print(f\"File '{local_file}' uploaded to '{s3_key}' in bucket '{bucket_name}'.\")\n",
    "    except NoCredentialsError:\n",
    "        print(\"Credentials not available. Check AWS configuration.\")\n",
    "    except ClientError as e:\n",
    "        print(f\"An error occurred: {e.response['Error']['Message']}\")"
   ]
  },
  {
   "cell_type": "code",
   "execution_count": 3,
   "id": "0fd0166b",
   "metadata": {},
   "outputs": [
    {
     "name": "stdout",
     "output_type": "stream",
     "text": [
      "File 'arp-2022-2023.csv' uploaded to 'data/arp-2022-2023.csv' in bucket 'desafio-compass-pb'.\n"
     ]
    }
   ],
   "source": [
    "# Fazendo o upload do arquivo\n",
    "upload_to_s3('arp-2022-2023.csv', 'desafio-compass-pb', 'data/arp-2022-2023.csv')"
   ]
  }
 ],
 "metadata": {
  "kernelspec": {
   "display_name": ".venv",
   "language": "python",
   "name": "python3"
  },
  "language_info": {
   "codemirror_mode": {
    "name": "ipython",
    "version": 3
   },
   "file_extension": ".py",
   "mimetype": "text/x-python",
   "name": "python",
   "nbconvert_exporter": "python",
   "pygments_lexer": "ipython3",
   "version": "3.14.0a1+"
  }
 },
 "nbformat": 4,
 "nbformat_minor": 5
}
